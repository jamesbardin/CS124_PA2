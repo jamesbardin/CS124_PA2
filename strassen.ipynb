{
 "cells": [
  {
   "cell_type": "code",
   "execution_count": 1,
   "id": "b5e9864e",
   "metadata": {},
   "outputs": [],
   "source": [
    "import numpy as np\n",
    "import random"
   ]
  },
  {
   "cell_type": "code",
   "execution_count": 3,
   "id": "1476aa71",
   "metadata": {},
   "outputs": [],
   "source": [
    "def standard_matmul(A, B):\n",
    "    C = np.zeros((A.shape[0], B.shape[1]))\n",
    "    for i in range(A.shape[0]):\n",
    "        for j in range(B.shape[0]):\n",
    "            for k in range(B.shape[1]):\n",
    "                C[i][j] += A[i][k]*B[k][j]\n",
    "\n",
    "    return C\n",
    "\n",
    "def strassen(A, B):\n",
    "    C = np.zeros((A.shape[0], B.shape[1]))\n",
    "    for i in range(A.shape[0]):\n",
    "        for j in range(B.shape[0]):\n",
    "            pass\n",
    "        "
   ]
  },
  {
   "cell_type": "code",
   "execution_count": 6,
   "id": "305a5528",
   "metadata": {},
   "outputs": [],
   "source": [
    "A = np.array([[1, 2], [3, 4]])\n",
    "B = np.array([[4, 3], [2, 1]])"
   ]
  },
  {
   "cell_type": "code",
   "execution_count": 7,
   "id": "4c119a75",
   "metadata": {},
   "outputs": [
    {
     "data": {
      "text/plain": [
       "array([[ 8.,  5.],\n",
       "       [20., 13.]])"
      ]
     },
     "execution_count": 7,
     "metadata": {},
     "output_type": "execute_result"
    }
   ],
   "source": [
    "standard_matmul(A, B)"
   ]
  },
  {
   "cell_type": "code",
   "execution_count": 9,
   "id": "df5855d0",
   "metadata": {},
   "outputs": [],
   "source": [
    "def triangle_gen(p):\n",
    "    adj = np.zeros((1024, 1024))\n",
    "    for i in range(adj.shape[0]):\n",
    "        for j in range(adj.shape[1]):\n",
    "            adj[i][j] = random.choices([0, 1], [1-p, p], k=1)[0]\n",
    "    return adj\n",
    "\n",
    "for p in [0.01, 0.02, 0.03, 0.04, 0.05]:\n",
    "    adj = triangle_gen(p)\n",
    "    tmp = strassen_multiply(adj, adj, 23)\n",
    "    out = strassen_multiply(adj, tmp, 23)\n",
    "    tri = sum(out)/6\n",
    "    print(f\"Number of triangles in adjacency matrix, p={p}: {tri}\")\n",
    "    "
   ]
  },
  {
   "cell_type": "code",
   "execution_count": 8,
   "id": "16ebf115",
   "metadata": {},
   "outputs": [
    {
     "data": {
      "text/plain": [
       "0"
      ]
     },
     "execution_count": 8,
     "metadata": {},
     "output_type": "execute_result"
    }
   ],
   "source": []
  },
  {
   "cell_type": "code",
   "execution_count": null,
   "id": "378e653b",
   "metadata": {},
   "outputs": [],
   "source": []
  }
 ],
 "metadata": {
  "kernelspec": {
   "display_name": "Python 3 (ipykernel)",
   "language": "python",
   "name": "python3"
  },
  "language_info": {
   "codemirror_mode": {
    "name": "ipython",
    "version": 3
   },
   "file_extension": ".py",
   "mimetype": "text/x-python",
   "name": "python",
   "nbconvert_exporter": "python",
   "pygments_lexer": "ipython3",
   "version": "3.9.6"
  }
 },
 "nbformat": 4,
 "nbformat_minor": 5
}
